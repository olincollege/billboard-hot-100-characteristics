{
 "cells": [
  {
   "cell_type": "code",
   "execution_count": 2,
   "metadata": {},
   "outputs": [],
   "source": [
    "from bs4 import BeautifulSoup\n",
    "import requests\n",
    "import pandas as pd\n",
    "import numpy as np\n",
    "\n",
    "def scrape_chart(url, week):\n",
    "    src = requests.get(url).text\n",
    "    soup = BeautifulSoup(src, 'lxml')\n",
    "    rows = soup.select('.o-chart-results-list-row') # Pull out the ul for each chart row\n",
    "    songs = {'rank': [], 'title': [], 'artist': []}\n",
    "\n",
    "    for row in rows:\n",
    "        songs['rank'].append(row.li.find('span').get_text().strip())\n",
    "        songs['title'].append(row.find('h3').get_text().strip())\n",
    "        songs['artist'].append(row.find_all('li')[3].find('span').get_text().strip())    \n",
    "    \n",
    "    songs['week'] = 100 * [week]\n",
    "    return pd.DataFrame(songs)\n"
   ]
  },
  {
   "cell_type": "code",
   "execution_count": 97,
   "metadata": {},
   "outputs": [
    {
     "name": "stdout",
     "output_type": "stream",
     "text": [
      "2022-03-08\n",
      "  rank                      title  \\\n",
      "0    1                 Heat Waves   \n",
      "1    2  We Don't Talk About Bruno   \n",
      "2    3                    abcdefu   \n",
      "3    4              Super Gremlin   \n",
      "4    5                       Stay   \n",
      "\n",
      "                                              artist  \n",
      "0                                      Glass Animals  \n",
      "1  Carolina Gaitan, Mauro Castillo, Adassa, Rhenz...  \n",
      "2                                              GAYLE  \n",
      "3                                        Kodak Black  \n",
      "4                      The Kid LAROI & Justin Bieber  \n",
      "Empty DataFrame\n",
      "Columns: [rank, title, artist, week]\n",
      "Index: []\n",
      "2022-03-15\n",
      "  rank                      title  \\\n",
      "0    1                 Heat Waves   \n",
      "1    2  We Don't Talk About Bruno   \n",
      "2    3              Super Gremlin   \n",
      "3    4                    abcdefu   \n",
      "4    5                       Stay   \n",
      "\n",
      "                                              artist  \n",
      "0                                      Glass Animals  \n",
      "1  Carolina Gaitan, Mauro Castillo, Adassa, Rhenz...  \n",
      "2                                        Kodak Black  \n",
      "3                                              GAYLE  \n",
      "4                      The Kid LAROI & Justin Bieber  \n",
      "Empty DataFrame\n",
      "Columns: [rank, title, artist, week]\n",
      "Index: []\n"
     ]
    }
   ],
   "source": [
    "ts = pd.Timestamp('2022-03-08')\n",
    "chart = pd.DataFrame(columns=['rank', 'title', 'artist', 'week'])\n",
    "\n",
    "while ts < pd.Timestamp.now():\n",
    "    week = ts.strftime('%Y-%m-%d')\n",
    "    print(week)\n",
    "    url = f'https://www.billboard.com/charts/hot-100/{week}'\n",
    "    toadd = scrape_chart(url, week)\n",
    "    print(toadd.head())\n",
    "    pd.concat([chart, toadd])\n",
    "    print(chart.head())\n",
    "    ts += pd.Timedelta(days=7)\n"
   ]
  },
  {
   "cell_type": "code",
   "execution_count": 3,
   "metadata": {},
   "outputs": [
    {
     "data": {
      "text/html": [
       "<div>\n",
       "<style scoped>\n",
       "    .dataframe tbody tr th:only-of-type {\n",
       "        vertical-align: middle;\n",
       "    }\n",
       "\n",
       "    .dataframe tbody tr th {\n",
       "        vertical-align: top;\n",
       "    }\n",
       "\n",
       "    .dataframe thead th {\n",
       "        text-align: right;\n",
       "    }\n",
       "</style>\n",
       "<table border=\"1\" class=\"dataframe\">\n",
       "  <thead>\n",
       "    <tr style=\"text-align: right;\">\n",
       "      <th></th>\n",
       "      <th>index</th>\n",
       "      <th>rank</th>\n",
       "      <th>title</th>\n",
       "      <th>artist</th>\n",
       "      <th>week</th>\n",
       "    </tr>\n",
       "  </thead>\n",
       "  <tbody>\n",
       "    <tr>\n",
       "      <th>0</th>\n",
       "      <td>0</td>\n",
       "      <td>1</td>\n",
       "      <td>Poor Little Fool</td>\n",
       "      <td>Ricky Nelson</td>\n",
       "      <td>1958-08-04</td>\n",
       "    </tr>\n",
       "    <tr>\n",
       "      <th>1</th>\n",
       "      <td>1</td>\n",
       "      <td>2</td>\n",
       "      <td>Patricia</td>\n",
       "      <td>Perez Prado And His Orchestra</td>\n",
       "      <td>1958-08-04</td>\n",
       "    </tr>\n",
       "    <tr>\n",
       "      <th>2</th>\n",
       "      <td>2</td>\n",
       "      <td>3</td>\n",
       "      <td>Splish Splash</td>\n",
       "      <td>Bobby Darin</td>\n",
       "      <td>1958-08-04</td>\n",
       "    </tr>\n",
       "    <tr>\n",
       "      <th>3</th>\n",
       "      <td>3</td>\n",
       "      <td>4</td>\n",
       "      <td>Hard Headed Woman</td>\n",
       "      <td>Elvis Presley With The Jordanaires</td>\n",
       "      <td>1958-08-04</td>\n",
       "    </tr>\n",
       "    <tr>\n",
       "      <th>4</th>\n",
       "      <td>4</td>\n",
       "      <td>5</td>\n",
       "      <td>When</td>\n",
       "      <td>Kalin Twins</td>\n",
       "      <td>1958-08-04</td>\n",
       "    </tr>\n",
       "  </tbody>\n",
       "</table>\n",
       "</div>"
      ],
      "text/plain": [
       "   index rank              title                              artist  \\\n",
       "0      0    1   Poor Little Fool                        Ricky Nelson   \n",
       "1      1    2           Patricia       Perez Prado And His Orchestra   \n",
       "2      2    3      Splish Splash                         Bobby Darin   \n",
       "3      3    4  Hard Headed Woman  Elvis Presley With The Jordanaires   \n",
       "4      4    5               When                         Kalin Twins   \n",
       "\n",
       "         week  \n",
       "0  1958-08-04  \n",
       "1  1958-08-04  \n",
       "2  1958-08-04  \n",
       "3  1958-08-04  \n",
       "4  1958-08-04  "
      ]
     },
     "execution_count": 3,
     "metadata": {},
     "output_type": "execute_result"
    }
   ],
   "source": [
    "loaded = pd.read_feather('charts.feather')\n",
    "loaded.head()"
   ]
  },
  {
   "cell_type": "code",
   "execution_count": null,
   "metadata": {},
   "outputs": [],
   "source": []
  }
 ],
 "metadata": {
  "interpreter": {
   "hash": "24952a59d8b72fad312471b0658e9a74b1abb310afa8d00b8f0b462e865eb3ab"
  },
  "kernelspec": {
   "display_name": "Python 3.9.0 64-bit ('softdes')",
   "language": "python",
   "name": "python3"
  },
  "language_info": {
   "codemirror_mode": {
    "name": "ipython",
    "version": 3
   },
   "file_extension": ".py",
   "mimetype": "text/x-python",
   "name": "python",
   "nbconvert_exporter": "python",
   "pygments_lexer": "ipython3",
   "version": "3.9.0"
  },
  "orig_nbformat": 4
 },
 "nbformat": 4,
 "nbformat_minor": 2
}
