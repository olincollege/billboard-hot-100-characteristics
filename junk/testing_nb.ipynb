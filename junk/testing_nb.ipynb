{
 "cells": [
  {
   "cell_type": "code",
   "execution_count": 2,
   "id": "5d93d166",
   "metadata": {},
   "outputs": [
    {
     "name": "stdout",
     "output_type": "stream",
     "text": [
      "The autoreload extension is already loaded. To reload it, use:\n",
      "  %reload_ext autoreload\n"
     ]
    }
   ],
   "source": [
    "%load_ext autoreload\n",
    "%autoreload 2"
   ]
  },
  {
   "cell_type": "code",
   "execution_count": 1,
   "id": "a52e7b78",
   "metadata": {},
   "outputs": [
    {
     "name": "stdout",
     "output_type": "stream",
     "text": [
      "   level_0  index  rank                                       title  \\\n",
      "0        0      0     1                            Poor Little Fool   \n",
      "1   151487      0     1                             Who's That Girl   \n",
      "2   151387      0     1  I Still Haven't Found What I'm Looking For   \n",
      "3   151187      0     1     Shakedown (From \"Beverly Hills Cop II\")   \n",
      "4   151087      0     1                                       Alone   \n",
      "\n",
      "         artist        week  \n",
      "0  Ricky Nelson  1958-08-04  \n",
      "1       Madonna  1987-08-17  \n",
      "2            U2  1987-08-10  \n",
      "3     Bob Seger  1987-07-27  \n",
      "4         Heart  1987-07-20  \n",
      "0                                  Poor Little Fool\n",
      "1                                   Who's That Girl\n",
      "2        I Still Haven't Found What I'm Looking For\n",
      "3           Shakedown (From \"Beverly Hills Cop II\")\n",
      "4                                             Alone\n",
      "                            ...                    \n",
      "24800                           Burn The House Down\n",
      "24801                            I Looked At Heaven\n",
      "24802                Who's Been Sleeping In My Bed?\n",
      "24803                                   Flexicution\n",
      "24804                    Please Don't Kiss Me Again\n",
      "Name: title, Length: 24805, dtype: object\n",
      "0          Ricky Nelson\n",
      "1               Madonna\n",
      "2                    U2\n",
      "3             Bob Seger\n",
      "4                 Heart\n",
      "              ...      \n",
      "24800               AJR\n",
      "24801     Tommy Edwards\n",
      "24802       Linda Scott\n",
      "24803             Logic\n",
      "24804    The Charmettes\n",
      "Name: artist, Length: 24805, dtype: object\n"
     ]
    }
   ],
   "source": [
    "import pandas as pd\n",
    "from pprint import pprint\n",
    "\n",
    "charts = pd.read_feather(\"charts_clean.feather\")\n",
    "print(charts.head())\n",
    "\n",
    "# charts.iloc[<row selection>, <column selection>]\n",
    "\n",
    "# Practicing Indexing\n",
    "\n",
    "song_title = charts.iloc[:,2]\n",
    "# print(song_title)\n",
    "\n",
    "# Finding all of the top songs\n",
    "# print(charts.loc[charts['rank'] == '1'])\n",
    "\n",
    "# print(charts)\n",
    "song_title = charts.iloc[:,3]\n",
    "artist_name = charts.iloc[:,4]\n",
    "# print(song_title)\n",
    "print(song_title)\n",
    "print(artist_name)"
   ]
  },
  {
   "cell_type": "code",
   "execution_count": 11,
   "id": "24b57fab",
   "metadata": {},
   "outputs": [],
   "source": [
    "from pprint import pprint\n",
    "from spotify_api import spotify_api\n",
    "import numpy as np\n",
    "\n",
    "sp = spotify_api()\n",
    "charts = pd.read_feather('charts_clean.feather')"
   ]
  },
  {
   "cell_type": "code",
   "execution_count": 14,
   "id": "d4dadc1f",
   "metadata": {},
   "outputs": [
    {
     "name": "stderr",
     "output_type": "stream",
     "text": [
      "6it [00:00,  7.19it/s]\n"
     ]
    },
    {
     "ename": "KeyboardInterrupt",
     "evalue": "",
     "output_type": "error",
     "traceback": [
      "\u001b[0;31m---------------------------------------------------------------------------\u001b[0m",
      "\u001b[0;31mKeyboardInterrupt\u001b[0m                         Traceback (most recent call last)",
      "\u001b[1;32m/home/amit/Documents/SoftDes/billboard-hot-100-characteristics/billboard_hot_100.ipynb Cell 4'\u001b[0m in \u001b[0;36m<module>\u001b[0;34m\u001b[0m\n\u001b[0;32m----> <a href='vscode-notebook-cell:/home/amit/Documents/SoftDes/billboard-hot-100-characteristics/billboard_hot_100.ipynb#ch0000009?line=0'>1</a>\u001b[0m charts[\u001b[39m'\u001b[39m\u001b[39mtrackid\u001b[39m\u001b[39m'\u001b[39m] \u001b[39m=\u001b[39m sp\u001b[39m.\u001b[39;49mtrack_id_finder(charts[\u001b[39m'\u001b[39;49m\u001b[39mtitle\u001b[39;49m\u001b[39m'\u001b[39;49m], charts[\u001b[39m'\u001b[39;49m\u001b[39martist\u001b[39;49m\u001b[39m'\u001b[39;49m])\n",
      "File \u001b[0;32m~/Documents/SoftDes/billboard-hot-100-characteristics/spotify_api.py:27\u001b[0m, in \u001b[0;36mspotify_api.track_id_finder\u001b[0;34m(self, songs, artists)\u001b[0m\n\u001b[1;32m     <a href='file:///home/amit/Documents/SoftDes/billboard-hot-100-characteristics/spotify_api.py?line=24'>25</a>\u001b[0m ids \u001b[39m=\u001b[39m []\n\u001b[1;32m     <a href='file:///home/amit/Documents/SoftDes/billboard-hot-100-characteristics/spotify_api.py?line=25'>26</a>\u001b[0m \u001b[39mfor\u001b[39;00m song, artist, idx \u001b[39min\u001b[39;00m tqdm(\u001b[39mzip\u001b[39m(songs, artists, \u001b[39mrange\u001b[39m(\u001b[39mlen\u001b[39m(songs)))):\n\u001b[0;32m---> <a href='file:///home/amit/Documents/SoftDes/billboard-hot-100-characteristics/spotify_api.py?line=26'>27</a>\u001b[0m     search_results \u001b[39m=\u001b[39m \u001b[39mself\u001b[39;49m\u001b[39m.\u001b[39;49msp\u001b[39m.\u001b[39;49msearch(q\u001b[39m=\u001b[39;49m\u001b[39mf\u001b[39;49m\u001b[39m\"\u001b[39;49m\u001b[39mtrack:\u001b[39;49m\u001b[39m{\u001b[39;49;00msong\u001b[39m}\u001b[39;49;00m\u001b[39m artist:\u001b[39;49m\u001b[39m{\u001b[39;49;00martist\u001b[39m}\u001b[39;49;00m\u001b[39m\"\u001b[39;49m, limit\u001b[39m=\u001b[39;49m\u001b[39m1\u001b[39;49m, offset\u001b[39m=\u001b[39;49m\u001b[39m0\u001b[39;49m, \u001b[39mtype\u001b[39;49m\u001b[39m=\u001b[39;49m\u001b[39m'\u001b[39;49m\u001b[39mtrack\u001b[39;49m\u001b[39m'\u001b[39;49m, market\u001b[39m=\u001b[39;49m\u001b[39m\"\u001b[39;49m\u001b[39mUS\u001b[39;49m\u001b[39m\"\u001b[39;49m)\n\u001b[1;32m     <a href='file:///home/amit/Documents/SoftDes/billboard-hot-100-characteristics/spotify_api.py?line=27'>28</a>\u001b[0m     \u001b[39mif\u001b[39;00m (items \u001b[39m:=\u001b[39m search_results[\u001b[39m\"\u001b[39m\u001b[39mtracks\u001b[39m\u001b[39m\"\u001b[39m][\u001b[39m\"\u001b[39m\u001b[39mitems\u001b[39m\u001b[39m\"\u001b[39m]): \n\u001b[1;32m     <a href='file:///home/amit/Documents/SoftDes/billboard-hot-100-characteristics/spotify_api.py?line=28'>29</a>\u001b[0m         ids\u001b[39m.\u001b[39mappend(items[\u001b[39m0\u001b[39m][\u001b[39m'\u001b[39m\u001b[39mid\u001b[39m\u001b[39m'\u001b[39m])\n",
      "File \u001b[0;32m~/.pyenv/versions/3.9.0/envs/softdes/lib/python3.9/site-packages/spotipy/client.py:553\u001b[0m, in \u001b[0;36mSpotify.search\u001b[0;34m(self, q, limit, offset, type, market)\u001b[0m\n\u001b[1;32m    <a href='file:///home/amit/.pyenv/versions/3.9.0/envs/softdes/lib/python3.9/site-packages/spotipy/client.py?line=537'>538</a>\u001b[0m \u001b[39mdef\u001b[39;00m \u001b[39msearch\u001b[39m(\u001b[39mself\u001b[39m, q, limit\u001b[39m=\u001b[39m\u001b[39m10\u001b[39m, offset\u001b[39m=\u001b[39m\u001b[39m0\u001b[39m, \u001b[39mtype\u001b[39m\u001b[39m=\u001b[39m\u001b[39m\"\u001b[39m\u001b[39mtrack\u001b[39m\u001b[39m\"\u001b[39m, market\u001b[39m=\u001b[39m\u001b[39mNone\u001b[39;00m):\n\u001b[1;32m    <a href='file:///home/amit/.pyenv/versions/3.9.0/envs/softdes/lib/python3.9/site-packages/spotipy/client.py?line=538'>539</a>\u001b[0m     \u001b[39m\"\"\" searches for an item\u001b[39;00m\n\u001b[1;32m    <a href='file:///home/amit/.pyenv/versions/3.9.0/envs/softdes/lib/python3.9/site-packages/spotipy/client.py?line=539'>540</a>\u001b[0m \n\u001b[1;32m    <a href='file:///home/amit/.pyenv/versions/3.9.0/envs/softdes/lib/python3.9/site-packages/spotipy/client.py?line=540'>541</a>\u001b[0m \u001b[39m        Parameters:\u001b[39;00m\n\u001b[0;32m   (...)\u001b[0m\n\u001b[1;32m    <a href='file:///home/amit/.pyenv/versions/3.9.0/envs/softdes/lib/python3.9/site-packages/spotipy/client.py?line=550'>551</a>\u001b[0m \u001b[39m                       from_token.\u001b[39;00m\n\u001b[1;32m    <a href='file:///home/amit/.pyenv/versions/3.9.0/envs/softdes/lib/python3.9/site-packages/spotipy/client.py?line=551'>552</a>\u001b[0m \u001b[39m    \"\"\"\u001b[39;00m\n\u001b[0;32m--> <a href='file:///home/amit/.pyenv/versions/3.9.0/envs/softdes/lib/python3.9/site-packages/spotipy/client.py?line=552'>553</a>\u001b[0m     \u001b[39mreturn\u001b[39;00m \u001b[39mself\u001b[39;49m\u001b[39m.\u001b[39;49m_get(\n\u001b[1;32m    <a href='file:///home/amit/.pyenv/versions/3.9.0/envs/softdes/lib/python3.9/site-packages/spotipy/client.py?line=553'>554</a>\u001b[0m         \u001b[39m\"\u001b[39;49m\u001b[39msearch\u001b[39;49m\u001b[39m\"\u001b[39;49m, q\u001b[39m=\u001b[39;49mq, limit\u001b[39m=\u001b[39;49mlimit, offset\u001b[39m=\u001b[39;49moffset, \u001b[39mtype\u001b[39;49m\u001b[39m=\u001b[39;49m\u001b[39mtype\u001b[39;49m, market\u001b[39m=\u001b[39;49mmarket\n\u001b[1;32m    <a href='file:///home/amit/.pyenv/versions/3.9.0/envs/softdes/lib/python3.9/site-packages/spotipy/client.py?line=554'>555</a>\u001b[0m     )\n",
      "File \u001b[0;32m~/.pyenv/versions/3.9.0/envs/softdes/lib/python3.9/site-packages/spotipy/client.py:297\u001b[0m, in \u001b[0;36mSpotify._get\u001b[0;34m(self, url, args, payload, **kwargs)\u001b[0m\n\u001b[1;32m    <a href='file:///home/amit/.pyenv/versions/3.9.0/envs/softdes/lib/python3.9/site-packages/spotipy/client.py?line=293'>294</a>\u001b[0m \u001b[39mif\u001b[39;00m args:\n\u001b[1;32m    <a href='file:///home/amit/.pyenv/versions/3.9.0/envs/softdes/lib/python3.9/site-packages/spotipy/client.py?line=294'>295</a>\u001b[0m     kwargs\u001b[39m.\u001b[39mupdate(args)\n\u001b[0;32m--> <a href='file:///home/amit/.pyenv/versions/3.9.0/envs/softdes/lib/python3.9/site-packages/spotipy/client.py?line=296'>297</a>\u001b[0m \u001b[39mreturn\u001b[39;00m \u001b[39mself\u001b[39;49m\u001b[39m.\u001b[39;49m_internal_call(\u001b[39m\"\u001b[39;49m\u001b[39mGET\u001b[39;49m\u001b[39m\"\u001b[39;49m, url, payload, kwargs)\n",
      "File \u001b[0;32m~/.pyenv/versions/3.9.0/envs/softdes/lib/python3.9/site-packages/spotipy/client.py:240\u001b[0m, in \u001b[0;36mSpotify._internal_call\u001b[0;34m(self, method, url, payload, params)\u001b[0m\n\u001b[1;32m    <a href='file:///home/amit/.pyenv/versions/3.9.0/envs/softdes/lib/python3.9/site-packages/spotipy/client.py?line=235'>236</a>\u001b[0m logger\u001b[39m.\u001b[39mdebug(\u001b[39m'\u001b[39m\u001b[39mSending \u001b[39m\u001b[39m%s\u001b[39;00m\u001b[39m to \u001b[39m\u001b[39m%s\u001b[39;00m\u001b[39m with Params: \u001b[39m\u001b[39m%s\u001b[39;00m\u001b[39m Headers: \u001b[39m\u001b[39m%s\u001b[39;00m\u001b[39m and Body: \u001b[39m\u001b[39m%r\u001b[39;00m\u001b[39m \u001b[39m\u001b[39m'\u001b[39m,\n\u001b[1;32m    <a href='file:///home/amit/.pyenv/versions/3.9.0/envs/softdes/lib/python3.9/site-packages/spotipy/client.py?line=236'>237</a>\u001b[0m              method, url, args\u001b[39m.\u001b[39mget(\u001b[39m\"\u001b[39m\u001b[39mparams\u001b[39m\u001b[39m\"\u001b[39m), headers, args\u001b[39m.\u001b[39mget(\u001b[39m'\u001b[39m\u001b[39mdata\u001b[39m\u001b[39m'\u001b[39m))\n\u001b[1;32m    <a href='file:///home/amit/.pyenv/versions/3.9.0/envs/softdes/lib/python3.9/site-packages/spotipy/client.py?line=238'>239</a>\u001b[0m \u001b[39mtry\u001b[39;00m:\n\u001b[0;32m--> <a href='file:///home/amit/.pyenv/versions/3.9.0/envs/softdes/lib/python3.9/site-packages/spotipy/client.py?line=239'>240</a>\u001b[0m     response \u001b[39m=\u001b[39m \u001b[39mself\u001b[39;49m\u001b[39m.\u001b[39;49m_session\u001b[39m.\u001b[39;49mrequest(\n\u001b[1;32m    <a href='file:///home/amit/.pyenv/versions/3.9.0/envs/softdes/lib/python3.9/site-packages/spotipy/client.py?line=240'>241</a>\u001b[0m         method, url, headers\u001b[39m=\u001b[39;49mheaders, proxies\u001b[39m=\u001b[39;49m\u001b[39mself\u001b[39;49m\u001b[39m.\u001b[39;49mproxies,\n\u001b[1;32m    <a href='file:///home/amit/.pyenv/versions/3.9.0/envs/softdes/lib/python3.9/site-packages/spotipy/client.py?line=241'>242</a>\u001b[0m         timeout\u001b[39m=\u001b[39;49m\u001b[39mself\u001b[39;49m\u001b[39m.\u001b[39;49mrequests_timeout, \u001b[39m*\u001b[39;49m\u001b[39m*\u001b[39;49margs\n\u001b[1;32m    <a href='file:///home/amit/.pyenv/versions/3.9.0/envs/softdes/lib/python3.9/site-packages/spotipy/client.py?line=242'>243</a>\u001b[0m     )\n\u001b[1;32m    <a href='file:///home/amit/.pyenv/versions/3.9.0/envs/softdes/lib/python3.9/site-packages/spotipy/client.py?line=244'>245</a>\u001b[0m     response\u001b[39m.\u001b[39mraise_for_status()\n\u001b[1;32m    <a href='file:///home/amit/.pyenv/versions/3.9.0/envs/softdes/lib/python3.9/site-packages/spotipy/client.py?line=245'>246</a>\u001b[0m     results \u001b[39m=\u001b[39m response\u001b[39m.\u001b[39mjson()\n",
      "File \u001b[0;32m~/.pyenv/versions/3.9.0/envs/softdes/lib/python3.9/site-packages/requests/sessions.py:529\u001b[0m, in \u001b[0;36mSession.request\u001b[0;34m(self, method, url, params, data, headers, cookies, files, auth, timeout, allow_redirects, proxies, hooks, stream, verify, cert, json)\u001b[0m\n\u001b[1;32m    <a href='file:///home/amit/.pyenv/versions/3.9.0/envs/softdes/lib/python3.9/site-packages/requests/sessions.py?line=523'>524</a>\u001b[0m send_kwargs \u001b[39m=\u001b[39m {\n\u001b[1;32m    <a href='file:///home/amit/.pyenv/versions/3.9.0/envs/softdes/lib/python3.9/site-packages/requests/sessions.py?line=524'>525</a>\u001b[0m     \u001b[39m'\u001b[39m\u001b[39mtimeout\u001b[39m\u001b[39m'\u001b[39m: timeout,\n\u001b[1;32m    <a href='file:///home/amit/.pyenv/versions/3.9.0/envs/softdes/lib/python3.9/site-packages/requests/sessions.py?line=525'>526</a>\u001b[0m     \u001b[39m'\u001b[39m\u001b[39mallow_redirects\u001b[39m\u001b[39m'\u001b[39m: allow_redirects,\n\u001b[1;32m    <a href='file:///home/amit/.pyenv/versions/3.9.0/envs/softdes/lib/python3.9/site-packages/requests/sessions.py?line=526'>527</a>\u001b[0m }\n\u001b[1;32m    <a href='file:///home/amit/.pyenv/versions/3.9.0/envs/softdes/lib/python3.9/site-packages/requests/sessions.py?line=527'>528</a>\u001b[0m send_kwargs\u001b[39m.\u001b[39mupdate(settings)\n\u001b[0;32m--> <a href='file:///home/amit/.pyenv/versions/3.9.0/envs/softdes/lib/python3.9/site-packages/requests/sessions.py?line=528'>529</a>\u001b[0m resp \u001b[39m=\u001b[39m \u001b[39mself\u001b[39;49m\u001b[39m.\u001b[39;49msend(prep, \u001b[39m*\u001b[39;49m\u001b[39m*\u001b[39;49msend_kwargs)\n\u001b[1;32m    <a href='file:///home/amit/.pyenv/versions/3.9.0/envs/softdes/lib/python3.9/site-packages/requests/sessions.py?line=530'>531</a>\u001b[0m \u001b[39mreturn\u001b[39;00m resp\n",
      "File \u001b[0;32m~/.pyenv/versions/3.9.0/envs/softdes/lib/python3.9/site-packages/requests/sessions.py:645\u001b[0m, in \u001b[0;36mSession.send\u001b[0;34m(self, request, **kwargs)\u001b[0m\n\u001b[1;32m    <a href='file:///home/amit/.pyenv/versions/3.9.0/envs/softdes/lib/python3.9/site-packages/requests/sessions.py?line=641'>642</a>\u001b[0m start \u001b[39m=\u001b[39m preferred_clock()\n\u001b[1;32m    <a href='file:///home/amit/.pyenv/versions/3.9.0/envs/softdes/lib/python3.9/site-packages/requests/sessions.py?line=643'>644</a>\u001b[0m \u001b[39m# Send the request\u001b[39;00m\n\u001b[0;32m--> <a href='file:///home/amit/.pyenv/versions/3.9.0/envs/softdes/lib/python3.9/site-packages/requests/sessions.py?line=644'>645</a>\u001b[0m r \u001b[39m=\u001b[39m adapter\u001b[39m.\u001b[39;49msend(request, \u001b[39m*\u001b[39;49m\u001b[39m*\u001b[39;49mkwargs)\n\u001b[1;32m    <a href='file:///home/amit/.pyenv/versions/3.9.0/envs/softdes/lib/python3.9/site-packages/requests/sessions.py?line=646'>647</a>\u001b[0m \u001b[39m# Total elapsed time of the request (approximately)\u001b[39;00m\n\u001b[1;32m    <a href='file:///home/amit/.pyenv/versions/3.9.0/envs/softdes/lib/python3.9/site-packages/requests/sessions.py?line=647'>648</a>\u001b[0m elapsed \u001b[39m=\u001b[39m preferred_clock() \u001b[39m-\u001b[39m start\n",
      "File \u001b[0;32m~/.pyenv/versions/3.9.0/envs/softdes/lib/python3.9/site-packages/requests/adapters.py:440\u001b[0m, in \u001b[0;36mHTTPAdapter.send\u001b[0;34m(self, request, stream, timeout, verify, cert, proxies)\u001b[0m\n\u001b[1;32m    <a href='file:///home/amit/.pyenv/versions/3.9.0/envs/softdes/lib/python3.9/site-packages/requests/adapters.py?line=437'>438</a>\u001b[0m \u001b[39mtry\u001b[39;00m:\n\u001b[1;32m    <a href='file:///home/amit/.pyenv/versions/3.9.0/envs/softdes/lib/python3.9/site-packages/requests/adapters.py?line=438'>439</a>\u001b[0m     \u001b[39mif\u001b[39;00m \u001b[39mnot\u001b[39;00m chunked:\n\u001b[0;32m--> <a href='file:///home/amit/.pyenv/versions/3.9.0/envs/softdes/lib/python3.9/site-packages/requests/adapters.py?line=439'>440</a>\u001b[0m         resp \u001b[39m=\u001b[39m conn\u001b[39m.\u001b[39;49murlopen(\n\u001b[1;32m    <a href='file:///home/amit/.pyenv/versions/3.9.0/envs/softdes/lib/python3.9/site-packages/requests/adapters.py?line=440'>441</a>\u001b[0m             method\u001b[39m=\u001b[39;49mrequest\u001b[39m.\u001b[39;49mmethod,\n\u001b[1;32m    <a href='file:///home/amit/.pyenv/versions/3.9.0/envs/softdes/lib/python3.9/site-packages/requests/adapters.py?line=441'>442</a>\u001b[0m             url\u001b[39m=\u001b[39;49murl,\n\u001b[1;32m    <a href='file:///home/amit/.pyenv/versions/3.9.0/envs/softdes/lib/python3.9/site-packages/requests/adapters.py?line=442'>443</a>\u001b[0m             body\u001b[39m=\u001b[39;49mrequest\u001b[39m.\u001b[39;49mbody,\n\u001b[1;32m    <a href='file:///home/amit/.pyenv/versions/3.9.0/envs/softdes/lib/python3.9/site-packages/requests/adapters.py?line=443'>444</a>\u001b[0m             headers\u001b[39m=\u001b[39;49mrequest\u001b[39m.\u001b[39;49mheaders,\n\u001b[1;32m    <a href='file:///home/amit/.pyenv/versions/3.9.0/envs/softdes/lib/python3.9/site-packages/requests/adapters.py?line=444'>445</a>\u001b[0m             redirect\u001b[39m=\u001b[39;49m\u001b[39mFalse\u001b[39;49;00m,\n\u001b[1;32m    <a href='file:///home/amit/.pyenv/versions/3.9.0/envs/softdes/lib/python3.9/site-packages/requests/adapters.py?line=445'>446</a>\u001b[0m             assert_same_host\u001b[39m=\u001b[39;49m\u001b[39mFalse\u001b[39;49;00m,\n\u001b[1;32m    <a href='file:///home/amit/.pyenv/versions/3.9.0/envs/softdes/lib/python3.9/site-packages/requests/adapters.py?line=446'>447</a>\u001b[0m             preload_content\u001b[39m=\u001b[39;49m\u001b[39mFalse\u001b[39;49;00m,\n\u001b[1;32m    <a href='file:///home/amit/.pyenv/versions/3.9.0/envs/softdes/lib/python3.9/site-packages/requests/adapters.py?line=447'>448</a>\u001b[0m             decode_content\u001b[39m=\u001b[39;49m\u001b[39mFalse\u001b[39;49;00m,\n\u001b[1;32m    <a href='file:///home/amit/.pyenv/versions/3.9.0/envs/softdes/lib/python3.9/site-packages/requests/adapters.py?line=448'>449</a>\u001b[0m             retries\u001b[39m=\u001b[39;49m\u001b[39mself\u001b[39;49m\u001b[39m.\u001b[39;49mmax_retries,\n\u001b[1;32m    <a href='file:///home/amit/.pyenv/versions/3.9.0/envs/softdes/lib/python3.9/site-packages/requests/adapters.py?line=449'>450</a>\u001b[0m             timeout\u001b[39m=\u001b[39;49mtimeout\n\u001b[1;32m    <a href='file:///home/amit/.pyenv/versions/3.9.0/envs/softdes/lib/python3.9/site-packages/requests/adapters.py?line=450'>451</a>\u001b[0m         )\n\u001b[1;32m    <a href='file:///home/amit/.pyenv/versions/3.9.0/envs/softdes/lib/python3.9/site-packages/requests/adapters.py?line=452'>453</a>\u001b[0m     \u001b[39m# Send the request.\u001b[39;00m\n\u001b[1;32m    <a href='file:///home/amit/.pyenv/versions/3.9.0/envs/softdes/lib/python3.9/site-packages/requests/adapters.py?line=453'>454</a>\u001b[0m     \u001b[39melse\u001b[39;00m:\n\u001b[1;32m    <a href='file:///home/amit/.pyenv/versions/3.9.0/envs/softdes/lib/python3.9/site-packages/requests/adapters.py?line=454'>455</a>\u001b[0m         \u001b[39mif\u001b[39;00m \u001b[39mhasattr\u001b[39m(conn, \u001b[39m'\u001b[39m\u001b[39mproxy_pool\u001b[39m\u001b[39m'\u001b[39m):\n",
      "File \u001b[0;32m~/.pyenv/versions/3.9.0/envs/softdes/lib/python3.9/site-packages/urllib3/connectionpool.py:703\u001b[0m, in \u001b[0;36mHTTPConnectionPool.urlopen\u001b[0;34m(self, method, url, body, headers, retries, redirect, assert_same_host, timeout, pool_timeout, release_conn, chunked, body_pos, **response_kw)\u001b[0m\n\u001b[1;32m    <a href='file:///home/amit/.pyenv/versions/3.9.0/envs/softdes/lib/python3.9/site-packages/urllib3/connectionpool.py?line=699'>700</a>\u001b[0m     \u001b[39mself\u001b[39m\u001b[39m.\u001b[39m_prepare_proxy(conn)\n\u001b[1;32m    <a href='file:///home/amit/.pyenv/versions/3.9.0/envs/softdes/lib/python3.9/site-packages/urllib3/connectionpool.py?line=701'>702</a>\u001b[0m \u001b[39m# Make the request on the httplib connection object.\u001b[39;00m\n\u001b[0;32m--> <a href='file:///home/amit/.pyenv/versions/3.9.0/envs/softdes/lib/python3.9/site-packages/urllib3/connectionpool.py?line=702'>703</a>\u001b[0m httplib_response \u001b[39m=\u001b[39m \u001b[39mself\u001b[39;49m\u001b[39m.\u001b[39;49m_make_request(\n\u001b[1;32m    <a href='file:///home/amit/.pyenv/versions/3.9.0/envs/softdes/lib/python3.9/site-packages/urllib3/connectionpool.py?line=703'>704</a>\u001b[0m     conn,\n\u001b[1;32m    <a href='file:///home/amit/.pyenv/versions/3.9.0/envs/softdes/lib/python3.9/site-packages/urllib3/connectionpool.py?line=704'>705</a>\u001b[0m     method,\n\u001b[1;32m    <a href='file:///home/amit/.pyenv/versions/3.9.0/envs/softdes/lib/python3.9/site-packages/urllib3/connectionpool.py?line=705'>706</a>\u001b[0m     url,\n\u001b[1;32m    <a href='file:///home/amit/.pyenv/versions/3.9.0/envs/softdes/lib/python3.9/site-packages/urllib3/connectionpool.py?line=706'>707</a>\u001b[0m     timeout\u001b[39m=\u001b[39;49mtimeout_obj,\n\u001b[1;32m    <a href='file:///home/amit/.pyenv/versions/3.9.0/envs/softdes/lib/python3.9/site-packages/urllib3/connectionpool.py?line=707'>708</a>\u001b[0m     body\u001b[39m=\u001b[39;49mbody,\n\u001b[1;32m    <a href='file:///home/amit/.pyenv/versions/3.9.0/envs/softdes/lib/python3.9/site-packages/urllib3/connectionpool.py?line=708'>709</a>\u001b[0m     headers\u001b[39m=\u001b[39;49mheaders,\n\u001b[1;32m    <a href='file:///home/amit/.pyenv/versions/3.9.0/envs/softdes/lib/python3.9/site-packages/urllib3/connectionpool.py?line=709'>710</a>\u001b[0m     chunked\u001b[39m=\u001b[39;49mchunked,\n\u001b[1;32m    <a href='file:///home/amit/.pyenv/versions/3.9.0/envs/softdes/lib/python3.9/site-packages/urllib3/connectionpool.py?line=710'>711</a>\u001b[0m )\n\u001b[1;32m    <a href='file:///home/amit/.pyenv/versions/3.9.0/envs/softdes/lib/python3.9/site-packages/urllib3/connectionpool.py?line=712'>713</a>\u001b[0m \u001b[39m# If we're going to release the connection in ``finally:``, then\u001b[39;00m\n\u001b[1;32m    <a href='file:///home/amit/.pyenv/versions/3.9.0/envs/softdes/lib/python3.9/site-packages/urllib3/connectionpool.py?line=713'>714</a>\u001b[0m \u001b[39m# the response doesn't need to know about the connection. Otherwise\u001b[39;00m\n\u001b[1;32m    <a href='file:///home/amit/.pyenv/versions/3.9.0/envs/softdes/lib/python3.9/site-packages/urllib3/connectionpool.py?line=714'>715</a>\u001b[0m \u001b[39m# it will also try to release it and we'll have a double-release\u001b[39;00m\n\u001b[1;32m    <a href='file:///home/amit/.pyenv/versions/3.9.0/envs/softdes/lib/python3.9/site-packages/urllib3/connectionpool.py?line=715'>716</a>\u001b[0m \u001b[39m# mess.\u001b[39;00m\n\u001b[1;32m    <a href='file:///home/amit/.pyenv/versions/3.9.0/envs/softdes/lib/python3.9/site-packages/urllib3/connectionpool.py?line=716'>717</a>\u001b[0m response_conn \u001b[39m=\u001b[39m conn \u001b[39mif\u001b[39;00m \u001b[39mnot\u001b[39;00m release_conn \u001b[39melse\u001b[39;00m \u001b[39mNone\u001b[39;00m\n",
      "File \u001b[0;32m~/.pyenv/versions/3.9.0/envs/softdes/lib/python3.9/site-packages/urllib3/connectionpool.py:449\u001b[0m, in \u001b[0;36mHTTPConnectionPool._make_request\u001b[0;34m(self, conn, method, url, timeout, chunked, **httplib_request_kw)\u001b[0m\n\u001b[1;32m    <a href='file:///home/amit/.pyenv/versions/3.9.0/envs/softdes/lib/python3.9/site-packages/urllib3/connectionpool.py?line=443'>444</a>\u001b[0m             httplib_response \u001b[39m=\u001b[39m conn\u001b[39m.\u001b[39mgetresponse()\n\u001b[1;32m    <a href='file:///home/amit/.pyenv/versions/3.9.0/envs/softdes/lib/python3.9/site-packages/urllib3/connectionpool.py?line=444'>445</a>\u001b[0m         \u001b[39mexcept\u001b[39;00m \u001b[39mBaseException\u001b[39;00m \u001b[39mas\u001b[39;00m e:\n\u001b[1;32m    <a href='file:///home/amit/.pyenv/versions/3.9.0/envs/softdes/lib/python3.9/site-packages/urllib3/connectionpool.py?line=445'>446</a>\u001b[0m             \u001b[39m# Remove the TypeError from the exception chain in\u001b[39;00m\n\u001b[1;32m    <a href='file:///home/amit/.pyenv/versions/3.9.0/envs/softdes/lib/python3.9/site-packages/urllib3/connectionpool.py?line=446'>447</a>\u001b[0m             \u001b[39m# Python 3 (including for exceptions like SystemExit).\u001b[39;00m\n\u001b[1;32m    <a href='file:///home/amit/.pyenv/versions/3.9.0/envs/softdes/lib/python3.9/site-packages/urllib3/connectionpool.py?line=447'>448</a>\u001b[0m             \u001b[39m# Otherwise it looks like a bug in the code.\u001b[39;00m\n\u001b[0;32m--> <a href='file:///home/amit/.pyenv/versions/3.9.0/envs/softdes/lib/python3.9/site-packages/urllib3/connectionpool.py?line=448'>449</a>\u001b[0m             six\u001b[39m.\u001b[39;49mraise_from(e, \u001b[39mNone\u001b[39;49;00m)\n\u001b[1;32m    <a href='file:///home/amit/.pyenv/versions/3.9.0/envs/softdes/lib/python3.9/site-packages/urllib3/connectionpool.py?line=449'>450</a>\u001b[0m \u001b[39mexcept\u001b[39;00m (SocketTimeout, BaseSSLError, SocketError) \u001b[39mas\u001b[39;00m e:\n\u001b[1;32m    <a href='file:///home/amit/.pyenv/versions/3.9.0/envs/softdes/lib/python3.9/site-packages/urllib3/connectionpool.py?line=450'>451</a>\u001b[0m     \u001b[39mself\u001b[39m\u001b[39m.\u001b[39m_raise_timeout(err\u001b[39m=\u001b[39me, url\u001b[39m=\u001b[39murl, timeout_value\u001b[39m=\u001b[39mread_timeout)\n",
      "File \u001b[0;32m<string>:3\u001b[0m, in \u001b[0;36mraise_from\u001b[0;34m(value, from_value)\u001b[0m\n",
      "File \u001b[0;32m~/.pyenv/versions/3.9.0/envs/softdes/lib/python3.9/site-packages/urllib3/connectionpool.py:444\u001b[0m, in \u001b[0;36mHTTPConnectionPool._make_request\u001b[0;34m(self, conn, method, url, timeout, chunked, **httplib_request_kw)\u001b[0m\n\u001b[1;32m    <a href='file:///home/amit/.pyenv/versions/3.9.0/envs/softdes/lib/python3.9/site-packages/urllib3/connectionpool.py?line=440'>441</a>\u001b[0m \u001b[39mexcept\u001b[39;00m \u001b[39mTypeError\u001b[39;00m:\n\u001b[1;32m    <a href='file:///home/amit/.pyenv/versions/3.9.0/envs/softdes/lib/python3.9/site-packages/urllib3/connectionpool.py?line=441'>442</a>\u001b[0m     \u001b[39m# Python 3\u001b[39;00m\n\u001b[1;32m    <a href='file:///home/amit/.pyenv/versions/3.9.0/envs/softdes/lib/python3.9/site-packages/urllib3/connectionpool.py?line=442'>443</a>\u001b[0m     \u001b[39mtry\u001b[39;00m:\n\u001b[0;32m--> <a href='file:///home/amit/.pyenv/versions/3.9.0/envs/softdes/lib/python3.9/site-packages/urllib3/connectionpool.py?line=443'>444</a>\u001b[0m         httplib_response \u001b[39m=\u001b[39m conn\u001b[39m.\u001b[39;49mgetresponse()\n\u001b[1;32m    <a href='file:///home/amit/.pyenv/versions/3.9.0/envs/softdes/lib/python3.9/site-packages/urllib3/connectionpool.py?line=444'>445</a>\u001b[0m     \u001b[39mexcept\u001b[39;00m \u001b[39mBaseException\u001b[39;00m \u001b[39mas\u001b[39;00m e:\n\u001b[1;32m    <a href='file:///home/amit/.pyenv/versions/3.9.0/envs/softdes/lib/python3.9/site-packages/urllib3/connectionpool.py?line=445'>446</a>\u001b[0m         \u001b[39m# Remove the TypeError from the exception chain in\u001b[39;00m\n\u001b[1;32m    <a href='file:///home/amit/.pyenv/versions/3.9.0/envs/softdes/lib/python3.9/site-packages/urllib3/connectionpool.py?line=446'>447</a>\u001b[0m         \u001b[39m# Python 3 (including for exceptions like SystemExit).\u001b[39;00m\n\u001b[1;32m    <a href='file:///home/amit/.pyenv/versions/3.9.0/envs/softdes/lib/python3.9/site-packages/urllib3/connectionpool.py?line=447'>448</a>\u001b[0m         \u001b[39m# Otherwise it looks like a bug in the code.\u001b[39;00m\n\u001b[1;32m    <a href='file:///home/amit/.pyenv/versions/3.9.0/envs/softdes/lib/python3.9/site-packages/urllib3/connectionpool.py?line=448'>449</a>\u001b[0m         six\u001b[39m.\u001b[39mraise_from(e, \u001b[39mNone\u001b[39;00m)\n",
      "File \u001b[0;32m~/.pyenv/versions/3.9.0/lib/python3.9/http/client.py:1347\u001b[0m, in \u001b[0;36mHTTPConnection.getresponse\u001b[0;34m(self)\u001b[0m\n\u001b[1;32m   <a href='file:///home/amit/.pyenv/versions/3.9.0/lib/python3.9/http/client.py?line=1344'>1345</a>\u001b[0m \u001b[39mtry\u001b[39;00m:\n\u001b[1;32m   <a href='file:///home/amit/.pyenv/versions/3.9.0/lib/python3.9/http/client.py?line=1345'>1346</a>\u001b[0m     \u001b[39mtry\u001b[39;00m:\n\u001b[0;32m-> <a href='file:///home/amit/.pyenv/versions/3.9.0/lib/python3.9/http/client.py?line=1346'>1347</a>\u001b[0m         response\u001b[39m.\u001b[39;49mbegin()\n\u001b[1;32m   <a href='file:///home/amit/.pyenv/versions/3.9.0/lib/python3.9/http/client.py?line=1347'>1348</a>\u001b[0m     \u001b[39mexcept\u001b[39;00m \u001b[39mConnectionError\u001b[39;00m:\n\u001b[1;32m   <a href='file:///home/amit/.pyenv/versions/3.9.0/lib/python3.9/http/client.py?line=1348'>1349</a>\u001b[0m         \u001b[39mself\u001b[39m\u001b[39m.\u001b[39mclose()\n",
      "File \u001b[0;32m~/.pyenv/versions/3.9.0/lib/python3.9/http/client.py:307\u001b[0m, in \u001b[0;36mHTTPResponse.begin\u001b[0;34m(self)\u001b[0m\n\u001b[1;32m    <a href='file:///home/amit/.pyenv/versions/3.9.0/lib/python3.9/http/client.py?line=304'>305</a>\u001b[0m \u001b[39m# read until we get a non-100 response\u001b[39;00m\n\u001b[1;32m    <a href='file:///home/amit/.pyenv/versions/3.9.0/lib/python3.9/http/client.py?line=305'>306</a>\u001b[0m \u001b[39mwhile\u001b[39;00m \u001b[39mTrue\u001b[39;00m:\n\u001b[0;32m--> <a href='file:///home/amit/.pyenv/versions/3.9.0/lib/python3.9/http/client.py?line=306'>307</a>\u001b[0m     version, status, reason \u001b[39m=\u001b[39m \u001b[39mself\u001b[39;49m\u001b[39m.\u001b[39;49m_read_status()\n\u001b[1;32m    <a href='file:///home/amit/.pyenv/versions/3.9.0/lib/python3.9/http/client.py?line=307'>308</a>\u001b[0m     \u001b[39mif\u001b[39;00m status \u001b[39m!=\u001b[39m CONTINUE:\n\u001b[1;32m    <a href='file:///home/amit/.pyenv/versions/3.9.0/lib/python3.9/http/client.py?line=308'>309</a>\u001b[0m         \u001b[39mbreak\u001b[39;00m\n",
      "File \u001b[0;32m~/.pyenv/versions/3.9.0/lib/python3.9/http/client.py:268\u001b[0m, in \u001b[0;36mHTTPResponse._read_status\u001b[0;34m(self)\u001b[0m\n\u001b[1;32m    <a href='file:///home/amit/.pyenv/versions/3.9.0/lib/python3.9/http/client.py?line=266'>267</a>\u001b[0m \u001b[39mdef\u001b[39;00m \u001b[39m_read_status\u001b[39m(\u001b[39mself\u001b[39m):\n\u001b[0;32m--> <a href='file:///home/amit/.pyenv/versions/3.9.0/lib/python3.9/http/client.py?line=267'>268</a>\u001b[0m     line \u001b[39m=\u001b[39m \u001b[39mstr\u001b[39m(\u001b[39mself\u001b[39;49m\u001b[39m.\u001b[39;49mfp\u001b[39m.\u001b[39;49mreadline(_MAXLINE \u001b[39m+\u001b[39;49m \u001b[39m1\u001b[39;49m), \u001b[39m\"\u001b[39m\u001b[39miso-8859-1\u001b[39m\u001b[39m\"\u001b[39m)\n\u001b[1;32m    <a href='file:///home/amit/.pyenv/versions/3.9.0/lib/python3.9/http/client.py?line=268'>269</a>\u001b[0m     \u001b[39mif\u001b[39;00m \u001b[39mlen\u001b[39m(line) \u001b[39m>\u001b[39m _MAXLINE:\n\u001b[1;32m    <a href='file:///home/amit/.pyenv/versions/3.9.0/lib/python3.9/http/client.py?line=269'>270</a>\u001b[0m         \u001b[39mraise\u001b[39;00m LineTooLong(\u001b[39m\"\u001b[39m\u001b[39mstatus line\u001b[39m\u001b[39m\"\u001b[39m)\n",
      "File \u001b[0;32m~/.pyenv/versions/3.9.0/lib/python3.9/socket.py:704\u001b[0m, in \u001b[0;36mSocketIO.readinto\u001b[0;34m(self, b)\u001b[0m\n\u001b[1;32m    <a href='file:///home/amit/.pyenv/versions/3.9.0/lib/python3.9/socket.py?line=701'>702</a>\u001b[0m \u001b[39mwhile\u001b[39;00m \u001b[39mTrue\u001b[39;00m:\n\u001b[1;32m    <a href='file:///home/amit/.pyenv/versions/3.9.0/lib/python3.9/socket.py?line=702'>703</a>\u001b[0m     \u001b[39mtry\u001b[39;00m:\n\u001b[0;32m--> <a href='file:///home/amit/.pyenv/versions/3.9.0/lib/python3.9/socket.py?line=703'>704</a>\u001b[0m         \u001b[39mreturn\u001b[39;00m \u001b[39mself\u001b[39;49m\u001b[39m.\u001b[39;49m_sock\u001b[39m.\u001b[39;49mrecv_into(b)\n\u001b[1;32m    <a href='file:///home/amit/.pyenv/versions/3.9.0/lib/python3.9/socket.py?line=704'>705</a>\u001b[0m     \u001b[39mexcept\u001b[39;00m timeout:\n\u001b[1;32m    <a href='file:///home/amit/.pyenv/versions/3.9.0/lib/python3.9/socket.py?line=705'>706</a>\u001b[0m         \u001b[39mself\u001b[39m\u001b[39m.\u001b[39m_timeout_occurred \u001b[39m=\u001b[39m \u001b[39mTrue\u001b[39;00m\n",
      "File \u001b[0;32m~/.pyenv/versions/3.9.0/lib/python3.9/ssl.py:1241\u001b[0m, in \u001b[0;36mSSLSocket.recv_into\u001b[0;34m(self, buffer, nbytes, flags)\u001b[0m\n\u001b[1;32m   <a href='file:///home/amit/.pyenv/versions/3.9.0/lib/python3.9/ssl.py?line=1236'>1237</a>\u001b[0m     \u001b[39mif\u001b[39;00m flags \u001b[39m!=\u001b[39m \u001b[39m0\u001b[39m:\n\u001b[1;32m   <a href='file:///home/amit/.pyenv/versions/3.9.0/lib/python3.9/ssl.py?line=1237'>1238</a>\u001b[0m         \u001b[39mraise\u001b[39;00m \u001b[39mValueError\u001b[39;00m(\n\u001b[1;32m   <a href='file:///home/amit/.pyenv/versions/3.9.0/lib/python3.9/ssl.py?line=1238'>1239</a>\u001b[0m           \u001b[39m\"\u001b[39m\u001b[39mnon-zero flags not allowed in calls to recv_into() on \u001b[39m\u001b[39m%s\u001b[39;00m\u001b[39m\"\u001b[39m \u001b[39m%\u001b[39m\n\u001b[1;32m   <a href='file:///home/amit/.pyenv/versions/3.9.0/lib/python3.9/ssl.py?line=1239'>1240</a>\u001b[0m           \u001b[39mself\u001b[39m\u001b[39m.\u001b[39m\u001b[39m__class__\u001b[39m)\n\u001b[0;32m-> <a href='file:///home/amit/.pyenv/versions/3.9.0/lib/python3.9/ssl.py?line=1240'>1241</a>\u001b[0m     \u001b[39mreturn\u001b[39;00m \u001b[39mself\u001b[39;49m\u001b[39m.\u001b[39;49mread(nbytes, buffer)\n\u001b[1;32m   <a href='file:///home/amit/.pyenv/versions/3.9.0/lib/python3.9/ssl.py?line=1241'>1242</a>\u001b[0m \u001b[39melse\u001b[39;00m:\n\u001b[1;32m   <a href='file:///home/amit/.pyenv/versions/3.9.0/lib/python3.9/ssl.py?line=1242'>1243</a>\u001b[0m     \u001b[39mreturn\u001b[39;00m \u001b[39msuper\u001b[39m()\u001b[39m.\u001b[39mrecv_into(buffer, nbytes, flags)\n",
      "File \u001b[0;32m~/.pyenv/versions/3.9.0/lib/python3.9/ssl.py:1099\u001b[0m, in \u001b[0;36mSSLSocket.read\u001b[0;34m(self, len, buffer)\u001b[0m\n\u001b[1;32m   <a href='file:///home/amit/.pyenv/versions/3.9.0/lib/python3.9/ssl.py?line=1096'>1097</a>\u001b[0m \u001b[39mtry\u001b[39;00m:\n\u001b[1;32m   <a href='file:///home/amit/.pyenv/versions/3.9.0/lib/python3.9/ssl.py?line=1097'>1098</a>\u001b[0m     \u001b[39mif\u001b[39;00m buffer \u001b[39mis\u001b[39;00m \u001b[39mnot\u001b[39;00m \u001b[39mNone\u001b[39;00m:\n\u001b[0;32m-> <a href='file:///home/amit/.pyenv/versions/3.9.0/lib/python3.9/ssl.py?line=1098'>1099</a>\u001b[0m         \u001b[39mreturn\u001b[39;00m \u001b[39mself\u001b[39;49m\u001b[39m.\u001b[39;49m_sslobj\u001b[39m.\u001b[39;49mread(\u001b[39mlen\u001b[39;49m, buffer)\n\u001b[1;32m   <a href='file:///home/amit/.pyenv/versions/3.9.0/lib/python3.9/ssl.py?line=1099'>1100</a>\u001b[0m     \u001b[39melse\u001b[39;00m:\n\u001b[1;32m   <a href='file:///home/amit/.pyenv/versions/3.9.0/lib/python3.9/ssl.py?line=1100'>1101</a>\u001b[0m         \u001b[39mreturn\u001b[39;00m \u001b[39mself\u001b[39m\u001b[39m.\u001b[39m_sslobj\u001b[39m.\u001b[39mread(\u001b[39mlen\u001b[39m)\n",
      "\u001b[0;31mKeyboardInterrupt\u001b[0m: "
     ]
    }
   ],
   "source": [
    "charts['trackid'] = sp.track_id_finder(charts['title'], charts['artist'])"
   ]
  },
  {
   "cell_type": "code",
   "execution_count": null,
   "id": "7711cde3",
   "metadata": {},
   "outputs": [],
   "source": [
    "for i in range(0, len(charts['title']), 100):\n",
    "    ids = list(charts['trackid'][i:i+100])\n",
    "\n",
    "    # Find the audio features of a song\n",
    "    audio_features = sp.audio_features_finder(ids)\n",
    "    \n",
    "    audio_features[0][\"song_title\"] = song_identification\n",
    "    \n",
    "    print(f\"Index number {i} processed: {audio_features[0]['song_title']}\")\n",
    "    audio_features_dict[i] = audio_features[0]\n",
    "    \n",
    "# print(f\"These are the song characteristics for {songs[i]} by {artists[i]}:\")\n",
    "# pprint(audio_features)\n",
    "\n",
    "# Create DataFrame  \n",
    "new_df = pd.DataFrame(audio_features_dict)  \n",
    "\n",
    "print(new_df)\n",
    "# Print the output.  \n",
    "# print(df)\n",
    "\n",
    "# song_title = df.iloc[:,2]\n",
    "# (CHARACTERISTICS, SONG)\n",
    "# print(df.iloc[0,:])"
   ]
  },
  {
   "cell_type": "code",
   "execution_count": null,
   "id": "4473ee9e",
   "metadata": {},
   "outputs": [],
   "source": [
    "# THIS CODE IS TO TEST THE SONGS INDIVIDUALLY\n",
    "# from pprint import pprint\n",
    "# from spotify_api import spotify_api\n",
    "# import numpy as np\n",
    "\n",
    "# sp = spotify_api()\n",
    "# audio_features_dict = {}\n",
    "\n",
    "# song_title = [\"The Hills\", \"Always\"]\n",
    "# artist_name = [\"The Weeknd\", \"Atlantic Starr\"]\n",
    "\n",
    "# for i in range(len(song_title)):\n",
    "#     # Song ID of a song based on the title and artist name.\n",
    "#     song_identification = f\"{song_title[i]} by {artist_name[i]}\"\n",
    "#     song_id = f\"Index number {i}: {song_identification}\"\n",
    "    \n",
    "    \n",
    "#     # Finding the track ID of a song based on the song & artist\n",
    "#     track_id = sp.track_id_finder(song_title[i], artist_name[i])\n",
    "    \n",
    "#     print(track_id)\n",
    "#     # For the songs without track_ids, skip.\n",
    "#     if isinstance(track_id, float):\n",
    "#         print(f\"Track ID not found for {song_id}.\")\n",
    "#         continue\n",
    "    \n",
    "#     # Find the audio features of a song\n",
    "#     audio_features = sp.audio_features_finder(track_id)\n",
    "    \n",
    "#     # For the songs without song attributes, skip.\n",
    "#     if isinstance(audio_features, float):\n",
    "#         print(f\"Audio Features not found for {song_id}.\")\n",
    "#         continue\n",
    "    \n",
    "#     audio_features[0][\"song_title\"] = song_identification\n",
    "#     print(audio_features[0][\"song_title\"])\n",
    "#     audio_features_dict[i] = audio_features[0]"
   ]
  },
  {
   "cell_type": "code",
   "execution_count": null,
   "id": "5cbb04cf",
   "metadata": {},
   "outputs": [],
   "source": [
    "# Export as a feather down here.\n",
    "import pandas as pd\n",
    "pd.new_df.to_feather('audio_features_proper_index.feather')\n",
    "\n",
    "# If that doesn't work, export as .csv\n",
    "# new_df.to_csv('audio_features_proper_index.csv')"
   ]
  },
  {
   "cell_type": "code",
   "execution_count": null,
   "id": "88b8d908",
   "metadata": {},
   "outputs": [],
   "source": [
    "# This is the old CSV that is improperly indexed, used this as the basis for the feather, you'd want to transpose first,\n",
    "# Then try to attach it to the original dataframe and export that as a feather all together.\n",
    "import pandas as pd\n",
    "audio_features = pd.read_csv(\"audio_features.csv\")\n",
    "# Indexing the dataframe -> [x,y] x is the characteristic index, y being the index of a song\n",
    "# print(audio_features.iloc[:,3])\n",
    "af_trans = audio_features.transpose()\n",
    "print(af_trans)\n",
    "print(af_trans.iloc[0,:])\n",
    "print(af_trans.iloc[1,:])\n",
    "print(af_trans.iloc[2,:])"
   ]
  },
  {
   "cell_type": "code",
   "execution_count": 10,
   "id": "bea90d16",
   "metadata": {},
   "outputs": [
    {
     "name": "stdout",
     "output_type": "stream",
     "text": [
      "(24805, 25)\n"
     ]
    }
   ],
   "source": [
    "charts.head()\n",
    "merged = pd.read_csv('billboard_attributes_merge.csv')\n",
    "print(merged.shape)\n",
    "merged.head(20)\n",
    "charts['trackid'] = merged['id']"
   ]
  },
  {
   "cell_type": "code",
   "execution_count": 12,
   "id": "e4d0bfee",
   "metadata": {},
   "outputs": [],
   "source": [
    "charts.head()\n",
    "charts.to_feather('charts_trackid.feather')"
   ]
  },
  {
   "cell_type": "code",
   "execution_count": null,
   "id": "41492987",
   "metadata": {},
   "outputs": [],
   "source": []
  }
 ],
 "metadata": {
  "kernelspec": {
   "display_name": "Python 3 (ipykernel)",
   "language": "python",
   "name": "python3"
  },
  "language_info": {
   "codemirror_mode": {
    "name": "ipython",
    "version": 3
   },
   "file_extension": ".py",
   "mimetype": "text/x-python",
   "name": "python",
   "nbconvert_exporter": "python",
   "pygments_lexer": "ipython3",
   "version": "3.9.0"
  }
 },
 "nbformat": 4,
 "nbformat_minor": 5
}
